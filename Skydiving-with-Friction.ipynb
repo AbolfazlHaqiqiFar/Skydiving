{
 "cells": [
  {
   "cell_type": "code",
   "execution_count": 1,
   "metadata": {},
   "outputs": [],
   "source": [
    "import numpy as np\n",
    "import matplotlib.pyplot as plt\n",
    "from scipy.integrate import odeint"
   ]
  },
  {
   "cell_type": "code",
   "execution_count": 4,
   "metadata": {},
   "outputs": [],
   "source": [
    "def dSdt( S, t, g, m, b):\n",
    "    \"\"\" define  function that takes in t and S\n",
    "        and return dS/dt \"\"\"\n",
    "    vx = S[0]\n",
    "    vy = S[1]\n",
    "    return[\n",
    "        -b/m * np.sqrt(vx**2 + vy**2) * vx, #dvx/dt\n",
    "        -g -b/m * np.sqrt(vx**2 + vy**2) * vy #dvy/dt\n",
    "    ]"
   ]
  },
  {
   "cell_type": "code",
   "execution_count": 5,
   "metadata": {},
   "outputs": [],
   "source": [
    "'''supply the function and initial conditions to the \n",
    "    ODE solver. '''\n",
    "t = np.linspace(0, 20, 100)\n",
    "m = 80\n",
    "g = 9.81\n",
    "vt = -55\n",
    "b = m*g/vt**2\n",
    "v0x , v0y = 50, 0\n",
    "\n",
    "sol = odeint(dSdt, y0= [v0x, v0y], t=t , args=(g, m, b))"
   ]
  },
  {
   "cell_type": "code",
   "execution_count": 7,
   "metadata": {},
   "outputs": [],
   "source": [
    "vx = sol.T[0]\n",
    "vy = sol.T[1]"
   ]
  },
  {
   "cell_type": "code",
   "execution_count": 20,
   "metadata": {},
   "outputs": [
    {
     "data": {
      "image/png": "[encoded data removed]",
      "text/plain": [
       "<Figure size 432x288 with 1 Axes>"
      ]
     },
     "metadata": {
      "needs_background": "light"
     },
     "output_type": "display_data"
    }
   ],
   "source": [
    "plt.plot(t, vx)\n",
    "plt.ylabel('t' )\n",
    "plt.xlabel(\" $v_x$ \")\n",
    "plt.savefig('t&vx.png')"
   ]
  },
  {
   "cell_type": "code",
   "execution_count": 21,
   "metadata": {},
   "outputs": [
    {
     "data": {
      "image/png": "[encoded data removed]",
      "text/plain": [
       "<Figure size 432x288 with 1 Axes>"
      ]
     },
     "metadata": {
      "needs_background": "light"
     },
     "output_type": "display_data"
    }
   ],
   "source": [
    "plt.plot(t, vy)\n",
    "plt.axhline(vt, color = 'r')\n",
    "plt.ylabel('t' )\n",
    "plt.xlabel(\" $v_y$ \")\n",
    "plt.savefig('t&vy.png')"
   ]
  },
  {
   "cell_type": "code",
   "execution_count": 15,
   "metadata": {},
   "outputs": [
    {
     "data": {
      "text/plain": [
       "array([ 9.6969697 ,  9.8989899 , 10.1010101 , 10.3030303 , 10.50505051,\n",
       "       10.70707071, 10.90909091, 11.11111111, 11.31313131, 11.51515152,\n",
       "       11.71717172, 11.91919192, 12.12121212, 12.32323232, 12.52525253,\n",
       "       12.72727273, 12.92929293, 13.13131313, 13.33333333, 13.53535354,\n",
       "       13.73737374, 13.93939394, 14.14141414, 14.34343434, 14.54545455,\n",
       "       14.74747475, 14.94949495, 15.15151515, 15.35353535, 15.55555556,\n",
       "       15.75757576, 15.95959596, 16.16161616, 16.36363636, 16.56565657,\n",
       "       16.76767677, 16.96969697, 17.17171717, 17.37373737, 17.57575758,\n",
       "       17.77777778, 17.97979798, 18.18181818, 18.38383838, 18.58585859,\n",
       "       18.78787879, 18.98989899, 19.19191919, 19.39393939, 19.5959596 ,\n",
       "       19.7979798 , 20.        ])"
      ]
     },
     "execution_count": 15,
     "metadata": {},
     "output_type": "execute_result"
    }
   ],
   "source": [
    "#how long untilone reaches terminal velocity?\n",
    "ind = np.abs(vy - vt)/ np.abs(vt) < 0.1\n",
    "t[ind]"
   ]
  }
 ],
 "metadata": {
  "interpreter": {
   "hash": "916dbcbb3f70747c44a77c7bcd40155683ae19c65e1c03b4aa3499c5328201f1"
  },
  "kernelspec": {
   "display_name": "Python 3.8.5 64-bit",
   "language": "python",
   "name": "python3"
  },
  "language_info": {
   "codemirror_mode": {
    "name": "ipython",
    "version": 3
   },
   "file_extension": ".py",
   "mimetype": "text/x-python",
   "name": "python",
   "nbconvert_exporter": "python",
   "pygments_lexer": "ipython3",
   "version": "3.8.5"
  },
  "orig_nbformat": 4
 },
 "nbformat": 4,
 "nbformat_minor": 2
}
